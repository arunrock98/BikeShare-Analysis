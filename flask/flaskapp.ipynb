{
 "metadata": {
  "language_info": {
   "codemirror_mode": {
    "name": "ipython",
    "version": 3
   },
   "file_extension": ".py",
   "mimetype": "text/x-python",
   "name": "python",
   "nbconvert_exporter": "python",
   "pygments_lexer": "ipython3",
   "version": "3.8.5"
  },
  "orig_nbformat": 2,
  "kernelspec": {
   "name": "python3",
   "display_name": "Python 3",
   "language": "python"
  }
 },
 "nbformat": 4,
 "nbformat_minor": 2,
 "cells": [
  {
   "cell_type": "code",
   "execution_count": 2,
   "metadata": {},
   "outputs": [],
   "source": [
    "from sklearn.model_selection import train_test_split\n",
    "from sklearn.ensemble import AdaBoostRegressor\n",
    "\n",
    "import pandas as pd\n",
    "import numpy as np\n",
    "\n",
    "import pickle\n",
    "\n",
    "## read the file\n",
    "\n",
    "df=pd.read_csv('hour.csv')\n",
    "\n",
    "\n",
    "## preprocess\n",
    "\n",
    "df.rename(columns={'instant':'rec_id',\n",
    "'dteday':'datetime',\n",
    "'holiday':'is_holiday',\n",
    "'workingday':'is_workingday',\n",
    "'weathersit':'weather_condition',\n",
    "'hum':'humidity',\n",
    "'mnth':'month',\n",
    "'cnt':'total_count',\n",
    "'hr':'hour',\n",
    "'yr':'year'},inplace=True)\n",
    "\n",
    "df = df[['hour','is_holiday', 'weekday','total_count']]\n",
    "\n",
    "\n",
    "df.is_holiday = df.is_holiday.astype('category')\n",
    "df.weekday = df.weekday.astype('category')\n",
    "\n",
    "df = pd.get_dummies(df)\n",
    "\n",
    "## modelling\n",
    "\n",
    "x = df.drop(columns = ['total_count'])\n",
    "y = df['total_count']\n",
    "\n",
    "\n",
    "\n",
    "ada = AdaBoostRegressor()\n",
    "ada.fit(x,y)\n",
    "pickle.dump(ada, open('model.pkl','wb'))"
   ]
  },
  {
   "cell_type": "code",
   "execution_count": null,
   "metadata": {},
   "outputs": [],
   "source": []
  }
 ]
}